{
 "cells": [
  {
   "cell_type": "code",
   "execution_count": 19,
   "metadata": {},
   "outputs": [
    {
     "name": "stdout",
     "output_type": "stream",
     "text": [
      "Financial Analysis\n",
      "\n",
      "----------------------------\n",
      "\n",
      "Total months: 86\n",
      "Total Revenue: $ 38382578\n",
      "Average change  : $-2315.1176470588234\n",
      "Greatest Increase in Profits: Feb-2012 ($1926159)\n",
      "Greatest Decrease in Profits: Sep-2013 ($-2196167)\n"
     ]
    }
   ],
   "source": [
    "import os\n",
    "import csv \n",
    "\n",
    "\n",
    "csvpath=os.path.join('Resources','budget_data.csv')\n",
    "\n",
    "with open(csvpath, newline='') as csvfile:\n",
    "    csvreader = csv.reader(csvfile, delimiter=',')\n",
    "    \n",
    "    csv_header = next(csvreader)\n",
    "    \n",
    "    month = []\n",
    "    revenue = []\n",
    "    revenue_diff = []\n",
    "    monthly_change = []\n",
    "    \n",
    "#Months       \n",
    "    for row in csvreader:\n",
    "        month.append(row[0])\n",
    "        revenue.append(row[1])\n",
    "    \n",
    "    \n",
    " #Revenue \n",
    "    revenue_int = map(int,revenue)\n",
    "    total_revenue = (sum(revenue_int))\n",
    "    \n",
    "\n",
    " #Avg Change\n",
    "    i = 0\n",
    "    for i in range(len(revenue) - 1):\n",
    "        profit_loss = int(revenue[i+1]) - int(revenue[i])\n",
    "        \n",
    " # append profit_loss\n",
    "        revenue_diff.append(profit_loss)\n",
    "    Total = sum(revenue_diff)\n",
    "    \n",
    "#print(revenue_change)\n",
    "    monthly_change = Total / len(revenue_diff)\n",
    "    \n",
    "    \n",
    "    \n",
    "#Greatest Increase\n",
    "    profit_increase = max(revenue_diff)\n",
    "    k = revenue_change.index(profit_increase)\n",
    "    month_increase = month[k+1]\n",
    "    \n",
    "#Greatest Decrease\n",
    "    profit_decrease = min(revenue_diff)\n",
    "    j = revenue_change.index(profit_decrease)\n",
    "    month_decrease = month[j+1]\n",
    "\n",
    "\n",
    "#Print Statements\n",
    "\n",
    "print(f'Financial Analysis'+'\\n')\n",
    "print(f'----------------------------'+'\\n')\n",
    "\n",
    "\n",
    "print(\"Total months: \" + str(len(month)))\n",
    "\n",
    "print(\"Total Revenue: $ \" + str(total_revenue))\n",
    "      \n",
    "print(\"Average change  : $\" + str(monthly_change))\n",
    "\n",
    "print(f\"Greatest Increase in Profits: {month_increase} (${profit_increase})\")\n",
    "\n",
    "print(f\"Greatest Decrease in Profits: {month_decrease} (${profit_decrease})\")"
   ]
  },
  {
   "cell_type": "code",
   "execution_count": null,
   "metadata": {},
   "outputs": [],
   "source": []
  },
  {
   "cell_type": "code",
   "execution_count": null,
   "metadata": {},
   "outputs": [],
   "source": []
  },
  {
   "cell_type": "code",
   "execution_count": null,
   "metadata": {},
   "outputs": [],
   "source": []
  },
  {
   "cell_type": "code",
   "execution_count": null,
   "metadata": {},
   "outputs": [],
   "source": []
  }
 ],
 "metadata": {
  "kernelspec": {
   "display_name": "Python 3",
   "language": "python",
   "name": "python3"
  }
 },
 "nbformat": 4,
 "nbformat_minor": 2
}
